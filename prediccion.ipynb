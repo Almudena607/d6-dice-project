{
 "cells": [
  {
   "cell_type": "code",
   "execution_count": 1,
   "id": "cf3cdf6a",
   "metadata": {},
   "outputs": [
    {
     "name": "stdout",
     "output_type": "stream",
     "text": [
      "1/1 [==============================] - 6s 6s/step\n",
      "La imagen pertenece a la clase:  d8\n"
     ]
    }
   ],
   "source": [
    "from keras.models import load_model\n",
    "from PIL import Image\n",
    "import numpy as np\n",
    "from keras.preprocessing.image import ImageDataGenerator\n",
    "\n",
    "# Cargar el modelo guardado\n",
    "model = load_model(\"modelo.h5\")\n",
    "\n",
    "# Cargar la imagen en una matriz\n",
    "img = Image.open(\"d8.jpg\")\n",
    "img = img.resize((64, 64))\n",
    "x = np.array(img)\n",
    "x = x / 255\n",
    "x = np.expand_dims(x, axis=0)\n",
    "\n",
    "# Hacer la predicción\n",
    "preds = model.predict(x)\n",
    "\n",
    "# Obtener la clase con la probabilidad más alta\n",
    "class_idx = np.argmax(preds[0])\n",
    "# Obtener el nombre de la clase utilizando el índice\n",
    "class_label = ['d10','d12','d20','d4','d6','d8'][class_idx]\n",
    "print(\"La imagen pertenece a la clase: \", class_label)\n"
   ]
  },
  {
   "cell_type": "code",
   "execution_count": null,
   "id": "4292f7ae",
   "metadata": {},
   "outputs": [],
   "source": []
  }
 ],
 "metadata": {
  "kernelspec": {
   "display_name": "Python 3 (ipykernel)",
   "language": "python",
   "name": "python3"
  },
  "language_info": {
   "codemirror_mode": {
    "name": "ipython",
    "version": 3
   },
   "file_extension": ".py",
   "mimetype": "text/x-python",
   "name": "python",
   "nbconvert_exporter": "python",
   "pygments_lexer": "ipython3",
   "version": "3.8.15"
  }
 },
 "nbformat": 4,
 "nbformat_minor": 5
}
